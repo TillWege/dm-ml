{
 "cells": [
  {
   "cell_type": "markdown",
   "metadata": {},
   "source": [
    "Betreut durch Dipl.-Biol. Ralf Darius  \n",
    "WS2023 / 2024  \n",
    "26. Feb 2024  \n",
    "Hochschule Rhein-Waal\n",
    "\n",
    "# Projektarbeit Data Mining and Machine Learning\n",
    "\n",
    "## Analyse von Immobilienbewertungen\n",
    "\n",
    "<p style=\"font-size: 2rem\">\n",
    "Till Wegener <a href=\"#fn1\"><sup id=\"fn1-back\">1</sup></a> und \n",
    "Dennis Adamczyk <a href=\"#fn2\"><sup id=\"fn2-back\">2</sup></a>\n",
    "</p>\n",
    "\n",
    "[<sup id=\"fn1\">1</sup>](#fn1-back): Matrikelnummer: 28891, E-Mail-Adresse: till.wegener@hsrw.org  \n",
    "[<sup id=\"fn2\">2</sup>](#fn2-back): Matrikelnummer: 30545, E-Mail-Adresse: dennis.adamczyk@hsrw.org  \n"
   ]
  },
  {
   "cell_type": "markdown",
   "metadata": {},
   "source": [
    "## Abstract\n",
    "\n",
    "Die Analyse und Bewertung von Immobilien ist ein wichtiger Bestandteil des Immobilienmarktes. In dieser Arbeit wird ein Datensatz von Immobilienbewertungen aus Taiwan auf verschiedene Eigenschaften hin untersucht. Hierzu verwenden wir diverse Methoden aus den Bereichen des Data Mining und Machine Learning. Ziel ist es, die Bewertung von Immobilien, mithilfe einer linearen Regression, anhand verschiedener Eigenschaften vorherzusagen und zu analysieren.\n",
    "\n",
    "Keywords:\n",
    "\n",
    "*Data Mining, lineare Regression, Immobilienmarkt*\n",
    "<p style=\"page-break-after:always;\"></p>"
   ]
  },
  {
   "cell_type": "markdown",
   "metadata": {},
   "source": [
    "<h1>Inhaltsverzeichnis</h1>\n",
    "\n",
    "<ol ol style=\"list-style-type: decimal;\">\n",
    "  <li><a href=\"#eigenständig\">Eigenständigkeitserklärung</a></li>\n",
    "  <li>\n",
    "    <a href=\"#einleitung\">Einleitung</a>\n",
    "    <ol ol style=\"list-style-type: decimal;\">\n",
    "      <li><a href=\"#data\">Vorstellung der Daten</a></li>    \n",
    "      <li><a href=\"#code\">Vorbereitung Code</a></li>    \n",
    "    </ol>\n",
    "  </li>\n",
    "  <li><a href=\"#literaturverzeichnis\">Literaturverzeichnis</a></li>\n",
    "</ol>\n"
   ]
  },
  {
   "cell_type": "markdown",
   "metadata": {},
   "source": [
    "<h1 id=\"eigenständig\">1 Eigenständigkeitserklärung</h2>\n"
   ]
  },
  {
   "cell_type": "markdown",
   "metadata": {},
   "source": [
    "Hiermit erklären wir, dass wir die vorliegende Arbeit eigenständig und ohne fremde Hilfe angefertigt habe/n. Textpassagen, die wörtlich oder dem Sinn nach auf Publikationen oder Vorträgen anderer Autoren beruhen, sind als solche kenntlich gemacht."
   ]
  },
  {
   "cell_type": "markdown",
   "metadata": {},
   "source": [
    "<h1 id=\"einleitung\">2 Einleitung</h2>"
   ]
  },
  {
   "cell_type": "markdown",
   "metadata": {},
   "source": [
    "<h2 id=\"data\">2.1 Vorstellung der Daten</h2>"
   ]
  },
  {
   "cell_type": "markdown",
   "metadata": {},
   "source": [
    "In dieser Arbeit betrachten wir den Datensatz ``Real Estate Valuation``<a href=\"#ref1\">[1]</a> aus dem UCI Machine Learning Repository. Dieser Datensatz enthält Informationen über Immobilienbewertungen in Taiwan. "
   ]
  },
  {
   "cell_type": "markdown",
   "metadata": {},
   "source": [
    "<h2 id=\"code\">2.2 Vorbereitung Code</h2>"
   ]
  },
  {
   "cell_type": "code",
   "execution_count": 2,
   "metadata": {},
   "outputs": [],
   "source": [
    "%matplotlib inline\n",
    "\n",
    "import matplotlib.pyplot as plt\n",
    "import numpy as np"
   ]
  },
  {
   "cell_type": "markdown",
   "metadata": {},
   "source": [
    "<h1 id=\"literaturverzeichnis\">Literaturverzeichnis</h2>"
   ]
  },
  {
   "cell_type": "markdown",
   "metadata": {},
   "source": [
    "<p id=\"ref1\">[1] Yeh,I-Cheng. (2018). Real Estate Valuation. UCI Machine Learning Repository. https://doi.org/10.24432/C5J30W.</p>"
   ]
  }
 ],
 "metadata": {
  "kernelspec": {
   "display_name": "Python 3 (ipykernel)",
   "language": "python",
   "name": "python3"
  },
  "language_info": {
   "codemirror_mode": {
    "name": "ipython",
    "version": 3
   },
   "file_extension": ".py",
   "mimetype": "text/x-python",
   "name": "python",
   "nbconvert_exporter": "python",
   "pygments_lexer": "ipython3",
   "version": "3.11.0"
  }
 },
 "nbformat": 4,
 "nbformat_minor": 4
}
