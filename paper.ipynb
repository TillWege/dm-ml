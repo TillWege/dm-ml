{
 "cells": [
  {
   "cell_type": "markdown",
   "metadata": {},
   "source": [
    "Betreut durch Dipl.-Biol. Ralf Darius  \n",
    "WS2023 / 2024  \n",
    "26. Feb 2024  \n",
    "Hochschule Rhein-Waal\n",
    "\n",
    "# Projektarbeit Data Mining and Machine Learning\n",
    "\n",
    "## Analyse von Immobilienbewertungen\n",
    "\n",
    "<p style=\"font-size: 2rem\">\n",
    "Till Wegener <a href=\"#fn1\"><sup id=\"fn1-back\">1</sup></a> und \n",
    "Dennis Adamczyk <a href=\"#fn2\"><sup id=\"fn2-back\">2</sup></a>\n",
    "</p>\n",
    "\n",
    "[<sup id=\"fn1\">1</sup>](#fn1-back): Matrikelnummer: 28891, E-Mail-Adresse: till.wegener@hsrw.org  \n",
    "[<sup id=\"fn2\">2</sup>](#fn2-back): Matrikelnummer: 30545, E-Mail-Adresse: dennis.adamczyk@hsrw.org  \n"
   ]
  },
  {
   "cell_type": "markdown",
   "metadata": {},
   "source": [
    "## Abstract\n",
    "\n",
    "Die Analyse und Bewertung von Immobilien ist ein wichtiger Bestandteil des Immobilienmarktes. In dieser Arbeit wird ein Datensatz von Immobilienbewertungen aus Taiwan auf verschiedene Eigenschaften hin untersucht. Hierzu verwenden wir diverse Methoden aus den Bereichen des Data Mining und Machine Learning. Ziel ist es, die Bewertung von Immobilien, mithilfe einer linearen Regression, anhand verschiedener Eigenschaften vorherzusagen und zu analysieren.\n",
    "\n",
    "Keywords:\n",
    "\n",
    "*Data Mining, lineare Regression, multiple Regression, Immobilienmarkt*\n",
    "<p style=\"page-break-after:always;\"></p>"
   ]
  },
  {
   "cell_type": "markdown",
   "metadata": {},
   "source": [
    "<h1>Inhaltsverzeichnis</h1>\n",
    "\n",
    "<ol ol style=\"list-style-type: decimal;\">\n",
    "  <li><a href=\"#eigenständig\">Eigenständigkeitserklärung</a></li>\n",
    "  <li>\n",
    "    <a href=\"#einleitung\">Einleitung</a>\n",
    "    <ol ol style=\"list-style-type: decimal;\">\n",
    "      <li><a href=\"#data\">Vorstellung des Projektes</a></li>    \n",
    "      <li><a href=\"#code\">Vorbereitung Code</a></li>    \n",
    "    </ol>\n",
    "  </li>\n",
    "  <li><a href=\"#datensatz\">Betrachtung des Datensatzes</a></li>\n",
    "  <li><a href=\"#deskriptiv\">Deskriptive betrachtung des Datensatzes</a></li>\n",
    "\n",
    "  <li>\n",
    "    <a href=\"#reg\">Regressionsmodelle</a>\n",
    "    <ol ol style=\"list-style-type: decimal;\">\n",
    "        <li><a href=\"#multireg\">Mehrfache Lineare Regression</a></li>\n",
    "        <li><a href=\"#linreg\">Lineare Regression</a></li>\n",
    "    </ol>\n",
    "  </li>\n",
    "  <li><a href=\"#fazit\">Fazit</a></li>\n",
    "  <li><a href=\"#aufgaben\">Aufgabenverteilung</a></li>\n",
    "  \n",
    "  <li><a href=\"#literaturverzeichnis\">Literaturverzeichnis</a></li>\n",
    "</ol>\n",
    "\n",
    "# ! PUNKTE TODO\n",
    "- multivariante Datenmatrix\n",
    "- Passende variablen auswählen beschreiben\n",
    "- beschreiben welche objekte wir verwenden\n",
    "- standardisierung wenn nötig\n",
    "- Merkmalsreduktion\n",
    "- Modelle implementieren\n",
    "- modelle vergleichen\n",
    "- wenn zeit extra modelle implementieren\n",
    "- Fazit\n",
    "- Aufgabenverteilung\n"
   ]
  },
  {
   "cell_type": "markdown",
   "metadata": {},
   "source": [
    "<h1 id=\"eigenständig\">1 Eigenständigkeitserklärung</h2>\n"
   ]
  },
  {
   "cell_type": "markdown",
   "metadata": {},
   "source": [
    "Hiermit erklären wir, dass wir die vorliegende Arbeit eigenständig und ohne fremde Hilfe angefertigt habe/n. Textpassagen, die wörtlich oder dem Sinn nach auf Publikationen oder Vorträgen anderer Autoren beruhen, sind als solche kenntlich gemacht."
   ]
  },
  {
   "cell_type": "markdown",
   "metadata": {},
   "source": [
    "<h1 id=\"einleitung\">2 Einleitung</h2>"
   ]
  },
  {
   "cell_type": "markdown",
   "metadata": {},
   "source": [
    "<h2 id=\"data\">2.1 Vorstellung des Projektes</h2>"
   ]
  },
  {
   "cell_type": "markdown",
   "metadata": {},
   "source": [
    "In dieser Arbeit betrachten wir den Datensatz ``Real Estate Valuation``<a href=\"#refdata\">[1]</a> aus dem UCI Machine Learning Repository. Dieser Datensatz enthält Informationen über Immobilienbewertungen in Taiwan. Ziel unseres Projektes ist es, mithilfe unterschiedlicher Regressions-Verfahren zu überprüfen, ob der Wert pro Fläche abhängig von den diversen angegebenen Variablen ist. Dies würde es ermöglichen, für weitere Immobilien vorhersagen treffen zu können, bevor diese verkauft werden. Diese Vorhersagen könnten auch genutzt werden, um zu entscheiden ob eine Immobilie über oder unter dem erwartbaren Wert verkauft wird."
   ]
  },
  {
   "cell_type": "markdown",
   "metadata": {},
   "source": [
    "<h2 id=\"code\">2.2 Vorbereitung Code</h2>"
   ]
  },
  {
   "cell_type": "markdown",
   "metadata": {},
   "source": [
    "Bevor wir damit beginnen können die Daten zu analysieren, müssen wir sicherstellen das wir alle nötigen Python-Pakete installiert haben. Hierzu liegt diesem Notebook eine ``requirements.txt`` Datei bei. Der Python Paket-Manager ``PiP``<a href=\"#refpip\">[2]</a> kann anhand dieser Datei die Pakete installieren. Dafür muss in diesem Ordner der folgende Kommando-Zeilen Befehl ausgeführt werden:\n",
    "\n",
    "```cmd\n",
    "pip install -r requirements.txt\n",
    "```\n"
   ]
  },
  {
   "cell_type": "markdown",
   "metadata": {},
   "source": [
    "Der erste Schritt für die bearbeitung des Datensatzes ist das Importieren der benötigten Bibliotheken. In unserem Fall verwenden wir die folgenden Bibliotheken:\n",
    "- `pandas`<a href=\"#refpandas\">[3]</a>  zur allgemeinen Datenverarbeitung\n",
    "- `numpy`<a href=\"#refnumpy\">[4]</a> zur numerischen Berechnung\n",
    "- `matplotlib`<a href=\"#refmpl\">[5]</a> zur Visualisierung der Daten\n",
    "- `scikit-learn`<a href=\"#refsklearn\">[7]</a> zur Implementierung der Regressionsmodelle\n",
    "\n",
    "Hierzu genügt es, die Biliotheken zu importieren. Des Weiteren können wir hier festlegen, dass die Plots direkt im Notebook angezeigt werden sollen."
   ]
  },
  {
   "cell_type": "code",
   "execution_count": 53,
   "metadata": {},
   "outputs": [],
   "source": [
    "%matplotlib inline\n",
    "\n",
    "import matplotlib.pyplot as plt\n",
    "import numpy as np\n",
    "import pandas as pd"
   ]
  },
  {
   "cell_type": "markdown",
   "metadata": {},
   "source": [
    "Der nächste Schritt ist das Einlesen des Datensatzes. Hierzu können wir die Funktion ``ExcelFile`` von Pandas verwende. Diese Funktion ermöglicht es uns, die Daten aus einer Excel-Datei in ein ``DataFrame`` zu laden. Ein ``DataFrame`` ist eine zweidimensionale Datenstruktur, die von Pandas bereitgestellt wird. Ein ``DataFrame`` ist vergleichbar mit einer Tabelle in Excel. "
   ]
  },
  {
   "cell_type": "code",
   "execution_count": 54,
   "metadata": {},
   "outputs": [
    {
     "data": {
      "text/html": [
       "<div>\n",
       "<style scoped>\n",
       "    .dataframe tbody tr th:only-of-type {\n",
       "        vertical-align: middle;\n",
       "    }\n",
       "\n",
       "    .dataframe tbody tr th {\n",
       "        vertical-align: top;\n",
       "    }\n",
       "\n",
       "    .dataframe thead th {\n",
       "        text-align: right;\n",
       "    }\n",
       "</style>\n",
       "<table border=\"1\" class=\"dataframe\">\n",
       "  <thead>\n",
       "    <tr style=\"text-align: right;\">\n",
       "      <th></th>\n",
       "      <th>No</th>\n",
       "      <th>X1 transaction date</th>\n",
       "      <th>X2 house age</th>\n",
       "      <th>X3 distance to the nearest MRT station</th>\n",
       "      <th>X4 number of convenience stores</th>\n",
       "      <th>X5 latitude</th>\n",
       "      <th>X6 longitude</th>\n",
       "      <th>Y house price of unit area</th>\n",
       "    </tr>\n",
       "  </thead>\n",
       "  <tbody>\n",
       "    <tr>\n",
       "      <th>0</th>\n",
       "      <td>1</td>\n",
       "      <td>2012.916667</td>\n",
       "      <td>32.0</td>\n",
       "      <td>84.87882</td>\n",
       "      <td>10</td>\n",
       "      <td>24.98298</td>\n",
       "      <td>121.54024</td>\n",
       "      <td>37.9</td>\n",
       "    </tr>\n",
       "    <tr>\n",
       "      <th>1</th>\n",
       "      <td>2</td>\n",
       "      <td>2012.916667</td>\n",
       "      <td>19.5</td>\n",
       "      <td>306.59470</td>\n",
       "      <td>9</td>\n",
       "      <td>24.98034</td>\n",
       "      <td>121.53951</td>\n",
       "      <td>42.2</td>\n",
       "    </tr>\n",
       "    <tr>\n",
       "      <th>2</th>\n",
       "      <td>3</td>\n",
       "      <td>2013.583333</td>\n",
       "      <td>13.3</td>\n",
       "      <td>561.98450</td>\n",
       "      <td>5</td>\n",
       "      <td>24.98746</td>\n",
       "      <td>121.54391</td>\n",
       "      <td>47.3</td>\n",
       "    </tr>\n",
       "    <tr>\n",
       "      <th>3</th>\n",
       "      <td>4</td>\n",
       "      <td>2013.500000</td>\n",
       "      <td>13.3</td>\n",
       "      <td>561.98450</td>\n",
       "      <td>5</td>\n",
       "      <td>24.98746</td>\n",
       "      <td>121.54391</td>\n",
       "      <td>54.8</td>\n",
       "    </tr>\n",
       "    <tr>\n",
       "      <th>4</th>\n",
       "      <td>5</td>\n",
       "      <td>2012.833333</td>\n",
       "      <td>5.0</td>\n",
       "      <td>390.56840</td>\n",
       "      <td>5</td>\n",
       "      <td>24.97937</td>\n",
       "      <td>121.54245</td>\n",
       "      <td>43.1</td>\n",
       "    </tr>\n",
       "    <tr>\n",
       "      <th>...</th>\n",
       "      <td>...</td>\n",
       "      <td>...</td>\n",
       "      <td>...</td>\n",
       "      <td>...</td>\n",
       "      <td>...</td>\n",
       "      <td>...</td>\n",
       "      <td>...</td>\n",
       "      <td>...</td>\n",
       "    </tr>\n",
       "    <tr>\n",
       "      <th>409</th>\n",
       "      <td>410</td>\n",
       "      <td>2013.000000</td>\n",
       "      <td>13.7</td>\n",
       "      <td>4082.01500</td>\n",
       "      <td>0</td>\n",
       "      <td>24.94155</td>\n",
       "      <td>121.50381</td>\n",
       "      <td>15.4</td>\n",
       "    </tr>\n",
       "    <tr>\n",
       "      <th>410</th>\n",
       "      <td>411</td>\n",
       "      <td>2012.666667</td>\n",
       "      <td>5.6</td>\n",
       "      <td>90.45606</td>\n",
       "      <td>9</td>\n",
       "      <td>24.97433</td>\n",
       "      <td>121.54310</td>\n",
       "      <td>50.0</td>\n",
       "    </tr>\n",
       "    <tr>\n",
       "      <th>411</th>\n",
       "      <td>412</td>\n",
       "      <td>2013.250000</td>\n",
       "      <td>18.8</td>\n",
       "      <td>390.96960</td>\n",
       "      <td>7</td>\n",
       "      <td>24.97923</td>\n",
       "      <td>121.53986</td>\n",
       "      <td>40.6</td>\n",
       "    </tr>\n",
       "    <tr>\n",
       "      <th>412</th>\n",
       "      <td>413</td>\n",
       "      <td>2013.000000</td>\n",
       "      <td>8.1</td>\n",
       "      <td>104.81010</td>\n",
       "      <td>5</td>\n",
       "      <td>24.96674</td>\n",
       "      <td>121.54067</td>\n",
       "      <td>52.5</td>\n",
       "    </tr>\n",
       "    <tr>\n",
       "      <th>413</th>\n",
       "      <td>414</td>\n",
       "      <td>2013.500000</td>\n",
       "      <td>6.5</td>\n",
       "      <td>90.45606</td>\n",
       "      <td>9</td>\n",
       "      <td>24.97433</td>\n",
       "      <td>121.54310</td>\n",
       "      <td>63.9</td>\n",
       "    </tr>\n",
       "  </tbody>\n",
       "</table>\n",
       "<p>414 rows × 8 columns</p>\n",
       "</div>"
      ],
      "text/plain": [
       "      No  X1 transaction date  X2 house age  \\\n",
       "0      1          2012.916667          32.0   \n",
       "1      2          2012.916667          19.5   \n",
       "2      3          2013.583333          13.3   \n",
       "3      4          2013.500000          13.3   \n",
       "4      5          2012.833333           5.0   \n",
       "..   ...                  ...           ...   \n",
       "409  410          2013.000000          13.7   \n",
       "410  411          2012.666667           5.6   \n",
       "411  412          2013.250000          18.8   \n",
       "412  413          2013.000000           8.1   \n",
       "413  414          2013.500000           6.5   \n",
       "\n",
       "     X3 distance to the nearest MRT station  X4 number of convenience stores  \\\n",
       "0                                  84.87882                               10   \n",
       "1                                 306.59470                                9   \n",
       "2                                 561.98450                                5   \n",
       "3                                 561.98450                                5   \n",
       "4                                 390.56840                                5   \n",
       "..                                      ...                              ...   \n",
       "409                              4082.01500                                0   \n",
       "410                                90.45606                                9   \n",
       "411                               390.96960                                7   \n",
       "412                               104.81010                                5   \n",
       "413                                90.45606                                9   \n",
       "\n",
       "     X5 latitude  X6 longitude  Y house price of unit area  \n",
       "0       24.98298     121.54024                        37.9  \n",
       "1       24.98034     121.53951                        42.2  \n",
       "2       24.98746     121.54391                        47.3  \n",
       "3       24.98746     121.54391                        54.8  \n",
       "4       24.97937     121.54245                        43.1  \n",
       "..           ...           ...                         ...  \n",
       "409     24.94155     121.50381                        15.4  \n",
       "410     24.97433     121.54310                        50.0  \n",
       "411     24.97923     121.53986                        40.6  \n",
       "412     24.96674     121.54067                        52.5  \n",
       "413     24.97433     121.54310                        63.9  \n",
       "\n",
       "[414 rows x 8 columns]"
      ]
     },
     "execution_count": 54,
     "metadata": {},
     "output_type": "execute_result"
    }
   ],
   "source": [
    "data = pd.read_excel(\"./data.xlsx\")\n",
    "data"
   ]
  },
  {
   "cell_type": "markdown",
   "metadata": {},
   "source": [
    "Als nächstes teilen wir den Datensatz in zwei Teile auf. Den großen Teil des Datensatzes (90%) verwenden wir für die weitere Arbeit in diesem Projekt. Die restlichen 10% des Datensatzes verwenden wir, um am Ende des Projektes die Genauigkeit des Modells zu überprüfen. Um sicherzustellen, dass die Aufteilung reproduzierbar ist, verwerden wir einen vordefinierten Seed. Für diese Aufgabe bietet und das `DataFrame` die Methode `sample`. Diese Methode gibt einen übergebenen Anteil des DataFrames zurück. Des Weiteren nimmt diese Methode einen Parameter ``random_state`` an, mit welchen wir die Pseudo-Zufällige Aufteilung reproduzierbar gestalten können."
   ]
  },
  {
   "cell_type": "code",
   "execution_count": 55,
   "metadata": {},
   "outputs": [
    {
     "data": {
      "text/plain": [
       "373"
      ]
     },
     "execution_count": 55,
     "metadata": {},
     "output_type": "execute_result"
    }
   ],
   "source": [
    "seed = 1354\n",
    "data_work = data.sample(frac=0.9, random_state=seed)\n",
    "len(data_work)"
   ]
  },
  {
   "cell_type": "markdown",
   "metadata": {},
   "source": [
    "Die Variable ``data_work`` beinhaltet nun die 90% der Daten welche wir für die weitere Arbeit verweden. Um nun den Test-Datensatz zu bestimmen können wir nun die Differenz aus ``data_work`` und ``data`` bilden."
   ]
  },
  {
   "cell_type": "code",
   "execution_count": 56,
   "metadata": {},
   "outputs": [
    {
     "data": {
      "text/plain": [
       "41"
      ]
     },
     "execution_count": 56,
     "metadata": {},
     "output_type": "execute_result"
    }
   ],
   "source": [
    "data_test = data.drop(data_work.index)\n",
    "len(data_test)"
   ]
  },
  {
   "cell_type": "markdown",
   "metadata": {},
   "source": [
    "Wir können nun sicherstellen, dass wir keine Daten \"veloren\" haben, indem wir die Länge des ursprünglichen Datensatzes mit den beiden erstellen Datensätzen vergleichen."
   ]
  },
  {
   "cell_type": "code",
   "execution_count": 57,
   "metadata": {},
   "outputs": [],
   "source": [
    "assert(len(data_work) + len(data_test) == len(data))"
   ]
  },
  {
   "cell_type": "markdown",
   "metadata": {},
   "source": [
    "Die beiden Teil-Datensätze können nun als `csv`-Dateien gespeichert. Hierzu können wir die Pandas-Funktion `to_csv` der `Dataframes` verwenden."
   ]
  },
  {
   "cell_type": "code",
   "execution_count": 58,
   "metadata": {},
   "outputs": [],
   "source": [
    "data_work.to_csv(\"data_work.csv\", index=False)\n",
    "data_test.to_csv(\"data_test.csv\", index=False)"
   ]
  },
  {
   "cell_type": "markdown",
   "metadata": {},
   "source": [
    "Nun sind wir bereit für die weitere Analyse der Daten."
   ]
  },
  {
   "cell_type": "markdown",
   "metadata": {},
   "source": [
    "<h1 id=\"datensatz\">3 Betrachtung des Datensatzes</h2>"
   ]
  },
  {
   "cell_type": "markdown",
   "metadata": {},
   "source": [
    "Der Datensatz ``Real Estate Valuation``<a href=\"#refdata\">[1]</a> welchen wir betrachten besteht aus 414 Objekten. Jedes der Objekte bildet eine Bewertung einer Immobilie im Sindian Distrikt aus Taiwan ab. Für jedes Objekt ist der Preis pro normierte Fläche als Wert ``Y`` angegeben. Dieser Wert wird in der Einheit ``10000 New Taiwan Dollar/Ping`` angegeben. Hier hat ``1Ping`` eine Größe von ``3.3 Quadratmeter``. Zur Zeit der Verfassung dieses Projektberichtes (26. Feb 2024, 16:00 UTC) haben ``10000 New Taiwan Dollar`` einen Euro-Wert von ``291,97€``.\n",
    "\n",
    "Umgeformt ist die Einheit dieser Variable also\n",
    "\n",
    "$$ \\frac{291.97€}{3.3m^2} \\thickapprox {88.48€}/{m^2} $$\n",
    "\n",
    "Diesen Faktor speichern wir uns für die spätere Verwendung."
   ]
  },
  {
   "cell_type": "code",
   "execution_count": 59,
   "metadata": {},
   "outputs": [],
   "source": [
    "# Umrechnungsfaktor von 10000 NT$/ping in Euro/m²\n",
    "price_factor = 88.48"
   ]
  },
  {
   "cell_type": "markdown",
   "metadata": {},
   "source": [
    "Die weiteren Variablen des Datensatzes sind:\n",
    "\n",
    "- `X1` *Transaction date* - Datum \n",
    "- `X2` *House Age* - Alter der Immobilie in Jahren\n",
    "- `X3` *Distance to nearest MRT Station* - Distanz zu der nächsten ``Mass Rapid Transit``-Station in Metern. In diesem Fall die ``Metro Taipei`` <a href=\"#refmrt\">[6]</a>.\n",
    "- `X4` *Number of convenience stores* - Nummer der Convenice-Stores (vgl. Mini-Markt) in Fußnähe\n",
    "- `X5` *Latitude* - geografisches Breitengrad der Immobilie \n",
    "- `X6` *Longitude* - geografisches Längengrad der Immobilie \n",
    "\n",
    "Bei den Variablen `X1`, `X2`, `X3`, `X5` und `X6` handelt es sich um kontinuierliche Variablen. Die Variable `X4` hingegen ist eine diskrete Variable.\n",
    "\n",
    "Bei der Variable `X1` ist zu beachten, dass das Datum nicht in einem normalen Datumsformat vorliegt. Das Datum wird hier als Zahl angegeben, wobei der Integer-Teil die Jahreszahl und der Dezimal-Teil den Prozentsatz des Jahres darstellt. Hierbei wird allerdings nur der Monat berücksichtigt. Dementsprechend ist der Wert ``2013.25`` als ``März 2013`` zu interpretieren.\n",
    "\n",
    "Der Datensatz weißt auch eine Variable `No` auf, dies ist allerdings nur ein Index welcher keine statische Bedeutung ist. Dementsprechend werden wir diese in unseren Analysen nicht beachten.\n",
    "\n",
    "Keine der Variablen weißt fehlende Werte auf. "
   ]
  },
  {
   "cell_type": "markdown",
   "metadata": {},
   "source": [
    "<h1 id=\"deskriptiv\">4 Deskriptive betrachtung des Datensatzes</h2>"
   ]
  },
  {
   "cell_type": "markdown",
   "metadata": {},
   "source": [
    "Werte für die deskriptive Beschreibung des Datensatzes können wir uns mithilfe der Funktion `describe` des ``DataFrames`` ausgeben lassen. Um die Werte leichter verständlich zu machen, wenden wir hier den zuvor bestimmten Umrechnungs-Faktor für den Preis pro Fläche an."
   ]
  },
  {
   "cell_type": "code",
   "execution_count": 60,
   "metadata": {},
   "outputs": [
    {
     "data": {
      "text/html": [
       "<div>\n",
       "<style scoped>\n",
       "    .dataframe tbody tr th:only-of-type {\n",
       "        vertical-align: middle;\n",
       "    }\n",
       "\n",
       "    .dataframe tbody tr th {\n",
       "        vertical-align: top;\n",
       "    }\n",
       "\n",
       "    .dataframe thead th {\n",
       "        text-align: right;\n",
       "    }\n",
       "</style>\n",
       "<table border=\"1\" class=\"dataframe\">\n",
       "  <thead>\n",
       "    <tr style=\"text-align: right;\">\n",
       "      <th></th>\n",
       "      <th>X1 transaction date</th>\n",
       "      <th>X2 house age</th>\n",
       "      <th>X3 distance to the nearest MRT station</th>\n",
       "      <th>X4 number of convenience stores</th>\n",
       "      <th>X5 latitude</th>\n",
       "      <th>X6 longitude</th>\n",
       "      <th>Y house price of unit area</th>\n",
       "    </tr>\n",
       "  </thead>\n",
       "  <tbody>\n",
       "    <tr>\n",
       "      <th>count</th>\n",
       "      <td>414.000000</td>\n",
       "      <td>414.000000</td>\n",
       "      <td>414.000000</td>\n",
       "      <td>414.000000</td>\n",
       "      <td>414.00000</td>\n",
       "      <td>414.000000</td>\n",
       "      <td>414.000000</td>\n",
       "    </tr>\n",
       "    <tr>\n",
       "      <th>mean</th>\n",
       "      <td>2013.148953</td>\n",
       "      <td>17.712560</td>\n",
       "      <td>1083.885689</td>\n",
       "      <td>4.094203</td>\n",
       "      <td>24.96903</td>\n",
       "      <td>121.533361</td>\n",
       "      <td>3360.487498</td>\n",
       "    </tr>\n",
       "    <tr>\n",
       "      <th>std</th>\n",
       "      <td>0.281995</td>\n",
       "      <td>11.392485</td>\n",
       "      <td>1262.109595</td>\n",
       "      <td>2.945562</td>\n",
       "      <td>0.01241</td>\n",
       "      <td>0.015347</td>\n",
       "      <td>1203.902031</td>\n",
       "    </tr>\n",
       "    <tr>\n",
       "      <th>min</th>\n",
       "      <td>2012.666667</td>\n",
       "      <td>0.000000</td>\n",
       "      <td>23.382840</td>\n",
       "      <td>0.000000</td>\n",
       "      <td>24.93207</td>\n",
       "      <td>121.473530</td>\n",
       "      <td>672.448000</td>\n",
       "    </tr>\n",
       "    <tr>\n",
       "      <th>50%</th>\n",
       "      <td>2013.166667</td>\n",
       "      <td>16.100000</td>\n",
       "      <td>492.231300</td>\n",
       "      <td>4.000000</td>\n",
       "      <td>24.97110</td>\n",
       "      <td>121.538630</td>\n",
       "      <td>3402.056000</td>\n",
       "    </tr>\n",
       "    <tr>\n",
       "      <th>max</th>\n",
       "      <td>2013.583333</td>\n",
       "      <td>43.800000</td>\n",
       "      <td>6488.021000</td>\n",
       "      <td>10.000000</td>\n",
       "      <td>25.01459</td>\n",
       "      <td>121.566270</td>\n",
       "      <td>10396.400000</td>\n",
       "    </tr>\n",
       "  </tbody>\n",
       "</table>\n",
       "</div>"
      ],
      "text/plain": [
       "       X1 transaction date  X2 house age  \\\n",
       "count           414.000000    414.000000   \n",
       "mean           2013.148953     17.712560   \n",
       "std               0.281995     11.392485   \n",
       "min            2012.666667      0.000000   \n",
       "50%            2013.166667     16.100000   \n",
       "max            2013.583333     43.800000   \n",
       "\n",
       "       X3 distance to the nearest MRT station  \\\n",
       "count                              414.000000   \n",
       "mean                              1083.885689   \n",
       "std                               1262.109595   \n",
       "min                                 23.382840   \n",
       "50%                                492.231300   \n",
       "max                               6488.021000   \n",
       "\n",
       "       X4 number of convenience stores  X5 latitude  X6 longitude  \\\n",
       "count                       414.000000    414.00000    414.000000   \n",
       "mean                          4.094203     24.96903    121.533361   \n",
       "std                           2.945562      0.01241      0.015347   \n",
       "min                           0.000000     24.93207    121.473530   \n",
       "50%                           4.000000     24.97110    121.538630   \n",
       "max                          10.000000     25.01459    121.566270   \n",
       "\n",
       "       Y house price of unit area  \n",
       "count                  414.000000  \n",
       "mean                  3360.487498  \n",
       "std                   1203.902031  \n",
       "min                    672.448000  \n",
       "50%                   3402.056000  \n",
       "max                  10396.400000  "
      ]
     },
     "execution_count": 60,
     "metadata": {},
     "output_type": "execute_result"
    }
   ],
   "source": [
    "# deskriptive Statistik explizit nicht für 'ID'-Spalte\n",
    "data_no_id = data.drop(\"No\", axis=1)\n",
    "\n",
    "# Umrechnung von NT$/ping in Euro/m²\n",
    "data_no_id['Y house price of unit area'] = data_no_id['Y house price of unit area'] * price_factor\n",
    "\n",
    "data_no_id.describe(percentiles=[])"
   ]
  },
  {
   "cell_type": "markdown",
   "metadata": {},
   "source": [
    "Anhand dieser Tabelle können die Werte `Anzahl`, `Mittelwert`, `Standardabweichung`, `Minimum`, `Median` (Äquivalent mit dem 50ten Perzentil) und `Maximum` der Variablen abgelesen werden.\n",
    "\n",
    "Explizit können wir folgende Werte ablesen:\n",
    "\n",
    "- Das durchschnittliche Alter der Immobilien beträgt 17.712 Jahre\n",
    "- Die durchschnittliche Distanz zu der nächsten MRT-Station beträgt 1083.885 Meter\n",
    "- Die durchschnittliche Anzahl der Convenience-Stores in Fußnähe beträgt 4.094\n",
    "- Der durchschnittliche Preis pro Fläche beträgt $ 3306.487€/m^2 $\n",
    "- Der Datensatz beinhält Transaktionen aus dem Zeitraum August 2012 bis Juli 2013\n",
    "- Der Mittelwert und der Median der geografischen Koordinaten sind nahezu identisch. \n",
    "\n",
    "Die deskriptive Beschreibung des Datensatzes gibt uns einen ersten Eindruck über die Verteilung der Daten. Diese Daten können wir auch visuell darstellen. Hierzu können wir die Funktion `hist` des ``DataFrames`` verwenden. Diese Funktion erstellt für jede Variable ein Histogramm."
   ]
  },
  {
   "cell_type": "code",
   "execution_count": 61,
   "metadata": {},
   "outputs": [
    {
     "data": {
      "image/png": "[encoded data removed]",
      "text/plain": [
       "<Figure size 1500x1000 with 9 Axes>"
      ]
     },
     "metadata": {},
     "output_type": "display_data"
    }
   ],
   "source": [
    "hist = data_no_id.hist(figsize=(15, 10))"
   ]
  },
  {
   "cell_type": "markdown",
   "metadata": {},
   "source": [
    "Anhand der Histrogramme können wir weitere Informationen über die Verteilung der Daten ablesen. Die Variable `X3` weist eine linkssteile Verteilung auf. Die Variablen `X5` und `X6` weisen eine spitze Verteilung auf. Des Weiteren ist die Varianz der Werte sehr gering."
   ]
  },
  {
   "cell_type": "markdown",
   "metadata": {},
   "source": [
    "<h1 id=\"reg\">5 Regressionsmodelle</h2>"
   ]
  },
  {
   "cell_type": "markdown",
   "metadata": {},
   "source": [
    "Im folgenden schauen wir uns an, in wie weit es möglich ist, mithilfe verschiedener Regressionsmodelle den Preis pro Fläche vorherzusagen. Hierzu verwenden wir die Bibliothek `scikit-learn`<a href=\"#refsklearn\">[7]</a>. Diese Bibliothek bietet uns diverse Funktionen zur Erstellung von Regressionsmodellen."
   ]
  },
  {
   "cell_type": "markdown",
   "metadata": {},
   "source": [
    "<h2 id=\"linreg\">5.1 Lineare Regression</h2>"
   ]
  },
  {
   "cell_type": "markdown",
   "metadata": {},
   "source": [
    "<h2 id=\"multireg\">5.2 Mehrfache Lineare Regression</h2>"
   ]
  },
  {
   "cell_type": "markdown",
   "metadata": {},
   "source": [
    "<h1 id=\"literaturverzeichnis\">Literaturverzeichnis</h2>"
   ]
  },
  {
   "cell_type": "markdown",
   "metadata": {},
   "source": [
    "<p id=\"refdata\">[1] Yeh,I-Cheng. (2018). Real Estate Valuation. UCI Machine Learning Repository. https://doi.org/10.24432/C5J30W.</p>\n",
    "\n",
    "<p id=\"refpip\">[2] Python Paket-Manager pip - https://pypi.org/project/pip/ </p>\n",
    "\n",
    "<p id=\"refpandas\">[3] Pandas Python Bibliothek - https://pandas.pydata.org/ </p>\n",
    "\n",
    "<p id=\"refnumpy\">[4] Numpy Python Bibliothek - https://numpy.org/ </p>\n",
    "\n",
    "<p id=\"refmpl\">[5] Matplotlib Python Bibliothek - https://matplotlib.org/ </p>\n",
    "\n",
    "<p id=\"refmrt\">[6] Metro Taipei - https://english.metro.taipei/ </p>\n",
    "\n",
    "<p id=\"refsklearn\">[7] Scikit-learn - https://scikit-learn.org/stable/ </p>"
   ]
  }
 ],
 "metadata": {
  "kernelspec": {
   "display_name": "Python 3 (ipykernel)",
   "language": "python",
   "name": "python3"
  },
  "language_info": {
   "codemirror_mode": {
    "name": "ipython",
    "version": 3
   },
   "file_extension": ".py",
   "mimetype": "text/x-python",
   "name": "python",
   "nbconvert_exporter": "python",
   "pygments_lexer": "ipython3",
   "version": "3.11.3"
  }
 },
 "nbformat": 4,
 "nbformat_minor": 4
}
